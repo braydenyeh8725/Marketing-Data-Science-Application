{
 "cells": [
  {
   "cell_type": "markdown",
   "metadata": {},
   "source": [
    "# 當STP「行銷策略」遇到資料科學\n",
    "## 系列2-【資料蒐集】 Python網路爬蟲專案導向教學 - PTT貼文爬取模組"
   ]
  },
  {
   "cell_type": "markdown",
   "metadata": {},
   "source": [
    "作者：鍾皓軒（臺灣行銷研究有限公司 創辦人）\n",
    "\n",
    "Python jupyter notebook整理作者：陳俊凱（臺灣行銷研究特邀整理作者）、孔慶媛（臺灣行銷研究特邀整理作者）\n",
    "\n",
    "完整文章介紹[鏈接]()【文章修改中，之後準備發表】"
   ]
  },
  {
   "cell_type": "markdown",
   "metadata": {},
   "source": [
    "# <span style=\"font-size:0.9cm; line-height: 2cm; font-family:cursive;\">一、 引入套件</span><br>"
   ]
  },
  {
   "cell_type": "code",
   "execution_count": 1,
   "metadata": {},
   "outputs": [],
   "source": [
    "import pandas as pd\n",
    "from ptt import Board, crawl_ptt_page, crawl_ptt_page_auto, crawl_ptt_page_auto_comment\n",
    "from requests.exceptions import ReadTimeout\n",
    "import numpy as np\n",
    "import time\n",
    "import random "
   ]
  },
  {
   "cell_type": "markdown",
   "metadata": {},
   "source": [
    "# <span style=\"font-size:0.9cm; line-height: 2cm; font-family:cursive;\">二、一次爬取多頁 </span><br>"
   ]
  },
  {
   "cell_type": "markdown",
   "metadata": {},
   "source": [
    "<span style=\"font-size:0.7cm; line-height: 1cm;font-family:cursive;\"> 必要設定的欄位 </span><br>\n",
    "<span style=\"font-size:0.7cm; line-height: 1cm;font-family:cursive;\">1. 修改ptt板位 </span><br>\n",
    "<span style=\"font-size:0.7cm; line-height: 1cm;font-family:cursive;\">2. 查看最新的頁數index </span><br>"
   ]
  },
  {
   "cell_type": "markdown",
   "metadata": {},
   "source": [
    "<span style=\"font-size:0.7cm; line-height: 1cm;font-family:cursive;\">--------------------【內文與留言】------------------------ </span><br>"
   ]
  },
  {
   "cell_type": "markdown",
   "metadata": {},
   "source": [
    "\n",
    "<span style=\"font-size:0.7cm; line-height: 1cm;font-family:cursive;\"> 問題：使用utf-8-sig存檔csv，檔案名稱為 PTT_運動內衣_所有資料.csv</span><br>"
   ]
  },
  {
   "cell_type": "code",
   "execution_count": 2,
   "metadata": {
    "tags": []
   },
   "outputs": [
    {
     "output_type": "stream",
     "name": "stdout",
     "text": "讓我們從最新的1059開始爬取5頁吧呵呵\n正在抓資料中...[公告] 再次提醒大家不要交出實穿照\n正在抓資料中...[公告] 貼身衣物板板規 (2016/07/04)\n正在抓資料中...[公告] 贈送內衣僅限「全新」\n正在抓資料中...[公告] 匿名帳號發文及使用教學\n正在抓資料中...[贈送] 水餃墊多組、aimerfeel內衣65C\n正在抓資料中...[心得] Lise Charmel 款式分享（無實穿照）\n正在抓資料中...[問題] 請推薦退奶後軟胸部內衣\n正在抓資料中...[問題] 長時間穿著運動內衣起疹\n正在抓資料中...[問題] 請問最近有在DD網站購買內衣的大家\n正在抓資料中...[心得] 三倍劵依夢親膚內衣分享\n正在抓資料中...[問題] 請推大胸的無鋼圈薄墊內衣\n正在抓資料中...[心得]  PJ smart顯瘦簡約蕾絲內衣\n正在抓資料中...[問題] 請推薦類似DKNY這款內褲的質感\n正在抓資料中...Re: [問題] 運動內衣的穿著方式？\n正在抓資料中...[問題] 求推薦無痕內褲\n正在抓資料中...[贈送] 75D內衣四件（恰中）\n正在抓資料中...[心得] 華歌爾運動內衣\n正在抓資料中...[問題] 請問有推薦的淘寶內衣嗎？\n正在抓資料中...[心得] 無鋼圈內衣(金薇、依夢、亞曼菲)\n正在抓資料中...[情報] 曼黛瑪璉員林八月廠慶\n正在抓資料中...[討論] 低腰好穿好看內褲推薦\n正在抓資料中...[贈送] 全新 ANDENHUD 內褲 已贈出\n正在抓資料中...[贈送] uniqlo無鋼圈內衣三件(已送出)\n正在抓資料中...[贈送] PJ nice body軟鋼圈內衣（已送出）\n正在抓資料中...[閒聊] 便宜內褲 差在哪裡?\n正在抓資料中...[問題] 請問哪個牌子有漂亮的大尺寸內衣\n正在抓資料中...[問題] 請問有推薦的高雄地區大尺碼內衣實體店\n正在抓資料中...[心得] 菲洛米娜，中友百貨特賣\n正在抓資料中...[贈送] Lise charmel 75C T-shirt bra (已送出）\n正在抓資料中...[心得] Simone Perele、Passionate 特賣分享\n正在抓資料中...[閒聊] 桃園火車站瑪嘉妮Majani中大尺碼內衣\n正在抓資料中...[問題] 涼感無鋼圈內衣\n正在抓資料中...[問題] 有人穿過angellir內衣嗎？\n正在抓資料中...[問題] 塑身衣 黃漬/黃斑 消除方法?\n正在抓資料中...[問題] 求推有sogo專櫃or有實體店面的品牌\n正在抓資料中...[問題] 軟鋼圈內衣的支撐性\n正在抓資料中...[問題] 上胸無肉內衣推薦\n正在抓資料中...Re: [情報] Simone perele 西蒙佩兒特賣\n正在抓資料中...[情報] chantelle & Passionata 仙黛爾年中特賣會\n正在抓資料中...[心得] simone perele 西蒙佩兒年中特賣會\n正在抓資料中...[情報] Simone perele 西蒙佩兒特賣\n正在抓資料中...[心得] 菲洛米娜特賣會分享\n正在抓資料中...[心得] Salute ＆ une nana cool 實穿分享\n正在抓資料中...[心得] 黛莉貝爾沁肌九分保健衣\n正在抓資料中...[贈送] 全新思威爾內衣5件(已贈出\n正在抓資料中...Re: [心得] 菲洛米娜特賣會\n正在抓資料中...[問題] 菲洛米娜特賣會適合帶小孩去嗎？\n正在抓資料中...[贈送] iLady水餃墊8副 (洽中)\n正在抓資料中...[贈送] DKNY內褲 大U背心 已送出\n正在抓資料中...Re: [心得] 菲洛米娜戰力品\n正在抓資料中...[心得] 菲洛米娜特賣會\n正在抓資料中...[心得] 菲洛米娜2020特賣會\n正在抓資料中...Re: [心得] 玉如阿姨試穿心得\n正在抓資料中...[問題] 天氣熱bra t或平口內衣選擇\n正在抓資料中...[問題] 運動內衣的穿著方式？\n正在抓資料中...[問題] QMomo 兩款內衣評估\n正在抓資料中...Re: [心得] 菲洛米娜戰力品\n正在抓資料中...[心得] 菲洛米娜戰力品\n正在抓資料中...[討論] 安全褲哪裡買\n正在抓資料中...[心得] AH/Sloggi/PJ-bra top/bralette分享\n正在抓資料中...Re: [情報] 菲洛米娜特賣會\n正在抓資料中...Re: [情報] 菲洛米娜特賣會\n正在抓資料中...[問題] 想找這種蕾絲款式的內衣\n正在抓資料中...[心得] Qmomo 歡樂到不行\n正在抓資料中...[問題] 可不可以幫忙辨識內衣的牌子？\n正在抓資料中...[心得] Intimissimi\n正在抓資料中...Fw: [問題] RABURABU成套內衣配褲尺寸\n正在抓資料中...[情報] 菲洛米娜特賣會\n正在抓資料中...[心得] Salute 23group 2020ss\n正在抓資料中...[贈送] 全新黛絲純蠶絲內衣(已贈出)\n正在抓資料中...[閒聊] 依夢無鋼圈內衣心得\n正在抓資料中...[心得] LADY燦亮星影系列\n正在抓資料中...[問題] 會介意水餃墊顏色不同嗎?\n正在抓資料中...[心得] Agentprovocatuer zuri\n正在抓資料中...[問題] 黛莉貝爾的機能內衣好穿嗎\n正在抓資料中...[問題] 無鋼圈 集中托高效果之推薦品牌&款式\n正在抓資料中...[心得] PEACH JOHN Nicebody軟鋼圈內衣(薰衣草紫\n正在抓資料中...[贈送] Kalenji 70D/E通用運動內衣\n正在抓資料中...[問題] 有人穿過亞曼菲的運動內衣嗎？\n正在抓資料中...[贈送]  peach john qmomo 曼黛瑪璉內衣\n正在抓資料中...[問題] 內衣後背帶不貼合（瘦型小妹大）\n正在抓資料中...Fw: [情報] 台北Lady內衣特賣會！法式刺繡3套2988\n正在抓資料中...[心得] RABU RABU無鋼圈推薦\n正在抓資料中...Fw: [情報] 新竹曼黛瑪璉、瑪登瑪朵內衣廠拍！3件999\n正在抓資料中...[贈送] 大尺碼CK內衣 (贈出)\n正在抓資料中...[問題] 請問大家有穿過RABU RABU的無鋼圈嗎？\n"
    }
   ],
   "source": [
    "underwear = crawl_ptt_page_auto(Board_Name ='tech_job' ,\n",
    "                            page_num= 5)\n",
    "\n"
   ]
  },
  {
   "cell_type": "code",
   "execution_count": 3,
   "metadata": {},
   "outputs": [
    {
     "output_type": "execute_result",
     "data": {
      "text/plain": "           版名  分類                               標題  \\\n0   underwear  公告               [公告] 再次提醒大家不要交出實穿照   \n1   underwear  公告        [公告] 貼身衣物板板規 (2016/07/04)   \n2   underwear  公告                  [公告] 贈送內衣僅限「全新」   \n3   underwear  公告                 [公告] 匿名帳號發文及使用教學   \n4   underwear  贈送        [贈送] 水餃墊多組、aimerfeel內衣65C   \n..        ...  ..                              ...   \n14  underwear  情報  Fw: [情報] 台北Lady內衣特賣會！法式刺繡3套2988   \n15  underwear  心得              [心得] RABU RABU無鋼圈推薦   \n16  underwear  情報   Fw: [情報] 新竹曼黛瑪璉、瑪登瑪朵內衣廠拍！3件999   \n17  underwear  贈送                [贈送] 大尺碼CK內衣 (贈出)   \n18  underwear  問題      [問題] 請問大家有穿過RABU RABU的無鋼圈嗎？   \n\n                                                   內容                   時間  \\\n0   最近的各種檢舉信和悄悄話\\n已經多到一種....\\n\\n我覺得多說無益的地步\\n\\n請大家\\...  2017-05-30 22:31:49   \n1   <span class=\"hl\">◎愛惜帳號，累犯的定義若以分身帳號PO文亦同，將送ID_M...  2016-07-04 18:30:45   \n2   <span class=\"f3 hl\">六.贈送貼身衣物</span><span class...  2015-07-25 22:21:16   \n3           為了避免大家再受到不明人士的騷擾\\n        我們已經申請了匿名帳號\\...  2008-01-13 15:12:15   \n4   \\n曼黛瑪璉 水餃墊多組、或單一個\\n<a href=\"https://imgur.com/...  2020-08-25 21:09:55   \n..                                                ...                  ...   \n14  \\n作者: sisy1017 (西西) 看板: Actuary\\n標題: [情報] 台北La...  2020-06-18 19:27:37   \n15  內衣品牌：RABU RABU\\n品名或型號：太妃拿鐵\\n\\n有看過我發文的版友們～有印象我偏...  2020-06-16 23:50:57   \n16  \\n作者: sisy1017 (西西) 看板: Actuary\\n標題: [情報] 新竹曼黛...  2020-06-16 21:33:42   \n17  \\n尺寸買錯的CK內衣一件\\n\\n英國購回  尺寸 UK:38DD    EU:85DD ,...  2020-06-15 15:08:18   \n18  <span class=\"hl\">很難得遇到感覺很挺的無鋼圈內衣\\n</span><span...  2020-06-12 11:31:14   \n\n                                                 所有留言  \n0   [{'type': '推', 'user': 'justoncetime', 'conten...  \n1                                                  []  \n2   [{'type': '推', 'user': 'hahamaggie', 'content'...  \n3   [{'type': '推', 'user': 'kkabcd', 'content': '早...  \n4                                                  []  \n..                                                ...  \n14                                                 []  \n15  [{'type': '推', 'user': 'lygod', 'content': '官網...  \n16                                                 []  \n17                                                 []  \n18  [{'type': '→', 'user': 'lookeye', 'content': '...  \n\n[83 rows x 6 columns]",
      "text/html": "<div>\n<style scoped>\n    .dataframe tbody tr th:only-of-type {\n        vertical-align: middle;\n    }\n\n    .dataframe tbody tr th {\n        vertical-align: top;\n    }\n\n    .dataframe thead th {\n        text-align: right;\n    }\n</style>\n<table border=\"1\" class=\"dataframe\">\n  <thead>\n    <tr style=\"text-align: right;\">\n      <th></th>\n      <th>版名</th>\n      <th>分類</th>\n      <th>標題</th>\n      <th>內容</th>\n      <th>時間</th>\n      <th>所有留言</th>\n    </tr>\n  </thead>\n  <tbody>\n    <tr>\n      <th>0</th>\n      <td>underwear</td>\n      <td>公告</td>\n      <td>[公告] 再次提醒大家不要交出實穿照</td>\n      <td>最近的各種檢舉信和悄悄話\\n已經多到一種....\\n\\n我覺得多說無益的地步\\n\\n請大家\\...</td>\n      <td>2017-05-30 22:31:49</td>\n      <td>[{'type': '推', 'user': 'justoncetime', 'conten...</td>\n    </tr>\n    <tr>\n      <th>1</th>\n      <td>underwear</td>\n      <td>公告</td>\n      <td>[公告] 貼身衣物板板規 (2016/07/04)</td>\n      <td>&lt;span class=\"hl\"&gt;◎愛惜帳號，累犯的定義若以分身帳號PO文亦同，將送ID_M...</td>\n      <td>2016-07-04 18:30:45</td>\n      <td>[]</td>\n    </tr>\n    <tr>\n      <th>2</th>\n      <td>underwear</td>\n      <td>公告</td>\n      <td>[公告] 贈送內衣僅限「全新」</td>\n      <td>&lt;span class=\"f3 hl\"&gt;六.贈送貼身衣物&lt;/span&gt;&lt;span class...</td>\n      <td>2015-07-25 22:21:16</td>\n      <td>[{'type': '推', 'user': 'hahamaggie', 'content'...</td>\n    </tr>\n    <tr>\n      <th>3</th>\n      <td>underwear</td>\n      <td>公告</td>\n      <td>[公告] 匿名帳號發文及使用教學</td>\n      <td>為了避免大家再受到不明人士的騷擾\\n        我們已經申請了匿名帳號\\...</td>\n      <td>2008-01-13 15:12:15</td>\n      <td>[{'type': '推', 'user': 'kkabcd', 'content': '早...</td>\n    </tr>\n    <tr>\n      <th>4</th>\n      <td>underwear</td>\n      <td>贈送</td>\n      <td>[贈送] 水餃墊多組、aimerfeel內衣65C</td>\n      <td>\\n曼黛瑪璉 水餃墊多組、或單一個\\n&lt;a href=\"https://imgur.com/...</td>\n      <td>2020-08-25 21:09:55</td>\n      <td>[]</td>\n    </tr>\n    <tr>\n      <th>...</th>\n      <td>...</td>\n      <td>...</td>\n      <td>...</td>\n      <td>...</td>\n      <td>...</td>\n      <td>...</td>\n    </tr>\n    <tr>\n      <th>14</th>\n      <td>underwear</td>\n      <td>情報</td>\n      <td>Fw: [情報] 台北Lady內衣特賣會！法式刺繡3套2988</td>\n      <td>\\n作者: sisy1017 (西西) 看板: Actuary\\n標題: [情報] 台北La...</td>\n      <td>2020-06-18 19:27:37</td>\n      <td>[]</td>\n    </tr>\n    <tr>\n      <th>15</th>\n      <td>underwear</td>\n      <td>心得</td>\n      <td>[心得] RABU RABU無鋼圈推薦</td>\n      <td>內衣品牌：RABU RABU\\n品名或型號：太妃拿鐵\\n\\n有看過我發文的版友們～有印象我偏...</td>\n      <td>2020-06-16 23:50:57</td>\n      <td>[{'type': '推', 'user': 'lygod', 'content': '官網...</td>\n    </tr>\n    <tr>\n      <th>16</th>\n      <td>underwear</td>\n      <td>情報</td>\n      <td>Fw: [情報] 新竹曼黛瑪璉、瑪登瑪朵內衣廠拍！3件999</td>\n      <td>\\n作者: sisy1017 (西西) 看板: Actuary\\n標題: [情報] 新竹曼黛...</td>\n      <td>2020-06-16 21:33:42</td>\n      <td>[]</td>\n    </tr>\n    <tr>\n      <th>17</th>\n      <td>underwear</td>\n      <td>贈送</td>\n      <td>[贈送] 大尺碼CK內衣 (贈出)</td>\n      <td>\\n尺寸買錯的CK內衣一件\\n\\n英國購回  尺寸 UK:38DD    EU:85DD ,...</td>\n      <td>2020-06-15 15:08:18</td>\n      <td>[]</td>\n    </tr>\n    <tr>\n      <th>18</th>\n      <td>underwear</td>\n      <td>問題</td>\n      <td>[問題] 請問大家有穿過RABU RABU的無鋼圈嗎？</td>\n      <td>&lt;span class=\"hl\"&gt;很難得遇到感覺很挺的無鋼圈內衣\\n&lt;/span&gt;&lt;span...</td>\n      <td>2020-06-12 11:31:14</td>\n      <td>[{'type': '→', 'user': 'lookeye', 'content': '...</td>\n    </tr>\n  </tbody>\n</table>\n<p>83 rows × 6 columns</p>\n</div>"
     },
     "metadata": {},
     "execution_count": 3
    }
   ],
   "source": [
    "underwear"
   ]
  },
  {
   "cell_type": "code",
   "execution_count": 8,
   "metadata": {},
   "outputs": [
    {
     "output_type": "execute_result",
     "data": {
      "text/plain": "[{'type': '推',\n  'user': 'justoncetime',\n  'content': '可惡的亂板人 (#‵′)凸',\n  'ipdatetime': '05/30 22:50'},\n {'type': '推',\n  'user': 'sukiyasuki',\n  'content': '看了這個公告讓我好害怕0.0感謝版主提醒，再次去撤照',\n  'ipdatetime': '05/30 22:52'},\n {'type': '→',\n  'user': 'sukiyasuki',\n  'content': '片！',\n  'ipdatetime': '05/30 22:52'},\n {'type': '推',\n  'user': 'zebra1986',\n  'content': '版主辛苦了！',\n  'ipdatetime': '05/30 23:01'},\n {'type': '推', 'user': 'fakeID', 'content': '唉。', 'ipdatetime': '05/30 23:40'},\n {'type': '→', 'user': 'jqk910', 'content': '無奈', 'ipdatetime': '05/30 23:50'},\n {'type': '→',\n  'user': 'orgasm5566',\n  'content': '騷擾的人到底是存什麼心態啊，就不能單純欣賞內衣的',\n  'ipdatetime': '05/31 00:25'},\n {'type': '→',\n  'user': 'orgasm5566',\n  'content': '美，給予真誠的讚美就好嗎，你們的舉動都正在一點一滴',\n  'ipdatetime': '05/31 00:26'},\n {'type': '→',\n  'user': 'orgasm5566',\n  'content': '地澆熄板友的熱情與信任。一點都不尊重發文者，最後就',\n  'ipdatetime': '05/31 00:26'},\n {'type': '→',\n  'user': 'orgasm5566',\n  'content': '是不會再有任何一篇心得文',\n  'ipdatetime': '05/31 00:26'},\n {'type': '推',\n  'user': 'oldsummer',\n  'content': '高調',\n  'ipdatetime': '05/31 00:32'},\n {'type': '推',\n  'user': 'milkyogurt',\n  'content': '感覺好可怕',\n  'ipdatetime': '05/31 01:27'},\n {'type': '推',\n  'user': 'yorurin',\n  'content': '幫高調',\n  'ipdatetime': '05/31 08:06'},\n {'type': '推',\n  'user': 'su06231112',\n  'content': '哎',\n  'ipdatetime': '05/31 08:15'},\n {'type': '→',\n  'user': 'lookeye',\n  'content': '好誇張',\n  'ipdatetime': '05/31 08:24'},\n {'type': '推',\n  'user': 'touchofgreen',\n  'content': '同意高潮5566~給予真誠的讚美就是對分享者最大的鼓',\n  'ipdatetime': '05/31 10:11'},\n {'type': '→',\n  'user': 'touchofgreen',\n  'content': '勵！我還碰過裝女生的男生來信問我私密問題',\n  'ipdatetime': '05/31 10:12'},\n {'type': '→',\n  'user': 'touchofgreen',\n  'content': '真的很無言！',\n  'ipdatetime': '05/31 10:13'},\n {'type': '→',\n  'user': 'touchofgreen',\n  'content': '還碰過有女友/老婆的男生騷擾，我真的不懂都已經有',\n  'ipdatetime': '05/31 10:14'},\n {'type': '→',\n  'user': 'touchofgreen',\n  'content': '另一半了還騷擾板上女生的居心到底是什麼？',\n  'ipdatetime': '05/31 10:14'},\n {'type': '推',\n  'user': 'jqk910',\n  'content': '苦了一把青大了',\n  'ipdatetime': '05/31 10:30'},\n {'type': '推',\n  'user': 'chuben',\n  'content': '變態...',\n  'ipdatetime': '05/31 10:30'},\n {'type': '推',\n  'user': 'chupiggy',\n  'content': '高潮56自己也是男的吧，之前某篇還問板友網誌的密碼',\n  'ipdatetime': '05/31 10:36'},\n {'type': '推',\n  'user': 'fakeID',\n  'content': '身為男生的我，也很難了解會想在這騷擾的同性在想什麼呢。',\n  'ipdatetime': '05/31 11:05'},\n {'type': '推',\n  'user': 'orgasm5566',\n  'content': '我是男是女有很重要嗎，密碼至少我敢在推文問，我又沒',\n  'ipdatetime': '05/31 13:43'},\n {'type': '→',\n  'user': 'orgasm5566',\n  'content': '有騷擾任何人，沒必要因為性別而去扣人家帽子(?',\n  'ipdatetime': '05/31 13:43'},\n {'type': '→',\n  'user': 'purpleboy01',\n  'content': '很多男板友其實也只是欣賞啦 不是男生就有什麼意圖~',\n  'ipdatetime': '05/31 14:39'},\n {'type': '→',\n  'user': 'purpleboy01',\n  'content': '騷擾的就超過了',\n  'ipdatetime': '05/31 14:40'},\n {'type': '推',\n  'user': 'sukiyasuki',\n  'content': 'Orgasm大只是在推文中說想看而已啦～他知道原po只給女',\n  'ipdatetime': '05/31 14:53'},\n {'type': '→',\n  'user': 'sukiyasuki',\n  'content': '生網誌密碼後連站內信也沒寄～他是內衣版很棒的支持',\n  'ipdatetime': '05/31 14:53'},\n {'type': '→',\n  'user': 'sukiyasuki',\n  'content': '者！',\n  'ipdatetime': '05/31 14:53'},\n {'type': '推',\n  'user': 'jiahueihong',\n  'content': '真的很討厭騷擾的人，我也被寄信是怎樣 XD',\n  'ipdatetime': '05/31 15:56'},\n {'type': '推',\n  'user': 'bittywind',\n  'content': '所有願意分享的女生辛苦了，真的很討厭少數亂來的..',\n  'ipdatetime': '05/31 16:21'},\n {'type': '推',\n  'user': 'seagirl715',\n  'content': '我想版主的意思應該不只是純粹有人會寄信騷擾，也要',\n  'ipdatetime': '05/31 18:13'},\n {'type': '推',\n  'user': 'seagirl715',\n  'content': '擔心看起來是女生的帳號，畢竟我們不知道電腦前是誰',\n  'ipdatetime': '05/31 18:16'},\n {'type': '→',\n  'user': 'seagirl715',\n  'content': '男生和女生不一樣,女生會手牽手去廁所或聊私人事情',\n  'ipdatetime': '05/31 18:16'},\n {'type': '→',\n  'user': 'seagirl715',\n  'content': '這樣的習性可能讓男生偽裝成女生和我們互動,使女生',\n  'ipdatetime': '05/31 18:18'},\n {'type': '→',\n  'user': 'seagirl715',\n  'content': '分享了自己穿內衣的美照,即便對方傳了內衣照回來,也',\n  'ipdatetime': '05/31 18:19'},\n {'type': '→',\n  'user': 'seagirl715',\n  'content': '很可能是網路抓的,所以不論是看起來男性還是女性的帳',\n  'ipdatetime': '05/31 18:19'},\n {'type': '→',\n  'user': 'seagirl715',\n  'content': '號,只要他是陌生的未見面的,都應當要當心!畢竟我們',\n  'ipdatetime': '05/31 18:20'},\n {'type': '→',\n  'user': 'seagirl715',\n  'content': '不知道這個陌生帳號的背後是什麼樣子的人!',\n  'ipdatetime': '05/31 18:21'},\n {'type': '→',\n  'user': 'touchofgreen',\n  'content': '我在板上發完文章後，有人寄信過來只寫了五個字',\n  'ipdatetime': '05/31 18:42'},\n {'type': '→',\n  'user': 'touchofgreen',\n  'content': '「一把青好看」，我又不是在TaiwanDrama版發文',\n  'ipdatetime': '05/31 18:42'},\n {'type': '→',\n  'user': 'touchofgreen',\n  'content': '令人哭笑不得XD',\n  'ipdatetime': '05/31 18:42'},\n {'type': '推',\n  'user': 'purpleboy01',\n  'content': 'XDDDD',\n  'ipdatetime': '05/31 19:44'},\n {'type': '推',\n  'user': 'aurora1859',\n  'content': '還好我都沒被騷擾過哈哈～',\n  'ipdatetime': '05/31 20:47'},\n {'type': '推',\n  'user': 'Missnanako',\n  'content': '今天買了新內衣，本來想分享，但是想到上次發文的站內',\n  'ipdatetime': '05/31 22:08'},\n {'type': '→',\n  'user': 'Missnanako',\n  'content': '信就覺得還是算了。',\n  'ipdatetime': '05/31 22:08'},\n {'type': '推',\n  'user': 'SANDRAHO',\n  'content': '我也碰過要買舊內衣的男生，說要收藏…是有病嗎？！我',\n  'ipdatetime': '05/31 23:15'},\n {'type': '→',\n  'user': 'SANDRAHO',\n  'content': '說我都穿到爛穿到破才丟…',\n  'ipdatetime': '05/31 23:15'},\n {'type': '→',\n  'user': 'piqnts',\n  'content': '你們都太廢 只有我有辦法拿到看到 的心態吧',\n  'ipdatetime': '05/31 23:17'},\n {'type': '推',\n  'user': 'GaNH3',\n  'content': '我也有遇過...超過兩年前po過實穿照結果被沒有ptt帳號的男',\n  'ipdatetime': '05/31 23:50'},\n {'type': '→',\n  'user': 'GaNH3',\n  'content': '生找到我的臉書跑來私訊我說謝謝我的照片(?!)還說照片已經',\n  'ipdatetime': '05/31 23:51'},\n {'type': '→',\n  'user': 'GaNH3',\n  'content': '流到某些社團/論壇(?)撤了也沒用QQ',\n  'ipdatetime': '05/31 23:51'},\n {'type': '→',\n  'user': 'justoncetime',\n  'content': '如果不是照片加註ID得知,那傳播者可能是報復心態 唉',\n  'ipdatetime': '06/01 00:51'},\n {'type': '推',\n  'user': 'mamajustgo',\n  'content': '看過他板對這裡的評論後，決定無法匿名的話，絕不發',\n  'ipdatetime': '06/01 01:46'},\n {'type': '→',\n  'user': 'mamajustgo',\n  'content': '石川照，沒有盲腸總不會有盲腸炎XD',\n  'ipdatetime': '06/01 01:46'},\n {'type': '推',\n  'user': 'coco15683',\n  'content': '想知道mama大說的評論~',\n  'ipdatetime': '06/01 02:27'},\n {'type': '→',\n  'user': 'hsiao28',\n  'content': '樓樓上，板上有匿名帳可以使用喔',\n  'ipdatetime': '06/01 09:04'},\n {'type': '推',\n  'user': 'touchofgreen',\n  'content': '想知道mama大說的評論～',\n  'ipdatetime': '06/01 10:55'},\n {'type': '推',\n  'user': 'Ryuji',\n  'content': '在想應該跟之前表特版的情況類似，不想上表特的女生照片',\n  'ipdatetime': '06/01 11:35'},\n {'type': '→',\n  'user': 'ffwind',\n  'content': '不好意思，在下也是表特板主 orz',\n  'ipdatetime': '06/01 11:40'},\n {'type': '推',\n  'user': 'Ryuji',\n  'content': '被人po上表特版或是FB可連結觀賞的論壇～曝露其個人隱私',\n  'ipdatetime': '06/01 11:43'},\n {'type': '→',\n  'user': 'Ryuji',\n  'content': '剛好我在工作回應…我也正想睡說我有發現妳也是表特版主',\n  'ipdatetime': '06/01 11:45'},\n {'type': '推',\n  'user': 'Ryuji',\n  'content': '從上次有男姓裝女姓來版上想騙女生開群組求實穿照',\n  'ipdatetime': '06/01 11:55'},\n {'type': '推',\n  'user': 'Ryuji',\n  'content': '自己身為男姓就該懂得尊重外，也要懂得避嫌～',\n  'ipdatetime': '06/01 11:57'},\n {'type': '推',\n  'user': 'Ryuji',\n  'content': '自問當分享者用匿名分享，而自己無意間知道對方的隱私',\n  'ipdatetime': '06/01 11:59'},\n {'type': '→',\n  'user': 'Ryuji',\n  'content': '換成是我自己，我真的會覺得渾身不自在…',\n  'ipdatetime': '06/01 12:00'},\n {'type': '→',\n  'user': 'Ryuji',\n  'content': '分享是很好的事，但真的自己也要懂得保護好自己！',\n  'ipdatetime': '06/01 12:01'},\n {'type': '推',\n  'user': 'mamajustgo',\n  'content': '大意是，沒有想約之流的意圖，怎麼會po姿態煽情的內',\n  'ipdatetime': '06/01 15:09'},\n {'type': '→',\n  'user': 'mamajustgo',\n  'content': '衣照。因為那陣子板上確實有些尺度非常大方的照片出現',\n  'ipdatetime': '06/01 15:09'},\n {'type': '→',\n  'user': 'mamajustgo',\n  'content': '，所以就覺得，算了，反正不是非po不可，不想給自己',\n  'ipdatetime': '06/01 15:09'},\n {'type': '→',\n  'user': 'mamajustgo',\n  'content': '找麻煩XD',\n  'ipdatetime': '06/01 15:10'},\n {'type': '→',\n  'user': 'jqk910',\n  'content': 'Po者無心，觀者有意吧',\n  'ipdatetime': '06/01 15:14'},\n {'type': '推',\n  'user': 'touchofgreen',\n  'content': '女生看女生的內衣照 我只會覺得哇好美哦～',\n  'ipdatetime': '06/01 15:21'},\n {'type': '→',\n  'user': 'touchofgreen',\n  'content': '果然兩性的腦袋組成大不相同XDDD',\n  'ipdatetime': '06/01 15:21'},\n {'type': '推',\n  'user': 'justin61417',\n  'content': '推推',\n  'ipdatetime': '06/01 17:17'},\n {'type': '推',\n  'user': 'acps89188',\n  'content': '難道那些人就不能安分守己，用欣賞的角度去看嗎？說真',\n  'ipdatetime': '06/02 00:36'},\n {'type': '→',\n  'user': 'acps89188',\n  'content': '的只拍內衣照和實穿照，我也是希望有實穿照，能襯托出',\n  'ipdatetime': '06/02 00:36'},\n {'type': '→',\n  'user': 'acps89188',\n  'content': '內衣的美（生火就很想買啊！剁手），不能當作一般試穿',\n  'ipdatetime': '06/02 00:36'},\n {'type': '→',\n  'user': 'acps89188',\n  'content': '衣服看待嗎？一定要用有色角度去看嗎？那就都不要有麻',\n  'ipdatetime': '06/02 00:36'},\n {'type': '→',\n  'user': 'acps89188',\n  'content': '豆穿內衣的廣告了',\n  'ipdatetime': '06/02 00:36'},\n {'type': '推',\n  'user': 'mamajustgo',\n  'content': '啊！我目小，謝謝hs大～不過看起來被使用頻率不高？',\n  'ipdatetime': '06/02 00:41'},\n {'type': '→',\n  'user': 'mamajustgo',\n  'content': '挫挫的XD我看石川照都在看透不透、會不會需要胸貼之',\n  'ipdatetime': '06/02 00:41'},\n {'type': '→',\n  'user': 'mamajustgo',\n  'content': '類的，所以對我而言其實很實用啊……',\n  'ipdatetime': '06/02 00:41'},\n {'type': '推',\n  'user': 'bake047',\n  'content': '還是只能冀望某些人自重囉',\n  'ipdatetime': '06/02 05:36'},\n {'type': '推',\n  'user': 'spadej69171',\n  'content': 'Ga大  好可怕QQ',\n  'ipdatetime': '06/02 13:40'},\n {'type': '→',\n  'user': 'sichi',\n  'content': '希望那些檢舉需要幫忙的  沒有半個是之前說點沒遮ok的',\n  'ipdatetime': '06/03 13:56'},\n {'type': '→',\n  'user': 'sichi',\n  'content': '心得文  還是可以po啊  內衣照還是可以放啊  只要不是實穿',\n  'ipdatetime': '06/03 13:57'},\n {'type': '→',\n  'user': 'sichi',\n  'content': '或是實穿  但是外加小可愛或T恤啊  還不是一樣可以',\n  'ipdatetime': '06/03 13:57'},\n {'type': '推',\n  'user': 'almondchoco',\n  'content': '這些男的真的很噁心 想看情色照為何不去看A片啊？',\n  'ipdatetime': '06/08 22:51'},\n {'type': '推',\n  'user': 'akiracomw',\n  'content': 'http://i.imgur.com/bEnXtFe.jpg   可以參考女性性版',\n  'ipdatetime': '06/18 18:42'},\n {'type': '推',\n  'user': 'lookptt',\n  'content': '用匿名板貼啊',\n  'ipdatetime': '06/24 00:30'},\n {'type': '推',\n  'user': 'zdlnmuyl',\n  'content': '唉…本來想分享這次網購的曼黛瑪蓮，看到這個…嗯，好哦',\n  'ipdatetime': '12/07 23:50'},\n {'type': '推',\n  'user': 'imaclone',\n  'content': '請問是連沒有拍到臉的都不行嗎？',\n  'ipdatetime': '12/18 13:40'},\n {'type': '→',\n  'user': 'chiinlin',\n  'content': '像isuck生理為女性',\n  'ipdatetime': '11/09 09:43'},\n {'type': '推',\n  'user': 'paralupi',\n  'content': 'https://i.imgur.com/E9Zgh8L.jpg',\n  'ipdatetime': '11/14 17:34'},\n {'type': '推',\n  'user': 'reya1017',\n  'content': '昨天剛發完文   早上就收到騷擾信  這些人是白癡嗎？',\n  'ipdatetime': '12/11 12:04'},\n {'type': '推',\n  'user': 'AmerieBB',\n  'content': '小心有人會站內信先發自己的內衣照（可能是網路抓圖），',\n  'ipdatetime': '08/06 12:14'},\n {'type': '→',\n  'user': 'AmerieBB',\n  'content': '然後說好奇妳穿xx牌的胸型可不可以傳圖給他看，請警覺。',\n  'ipdatetime': '08/06 12:14'},\n {'type': '推',\n  'user': 'bibikklmm76',\n  'content': 'Chante',\n  'ipdatetime': '05/30 00:48'},\n {'type': '→',\n  'user': 'rerun',\n  'content': 'swear 思薇爾',\n  'ipdatetime': '07/16 15:42'}]"
     },
     "metadata": {},
     "execution_count": 8
    }
   ],
   "source": [
    "underwear['所有留言'][0].iloc[0]"
   ]
  },
  {
   "cell_type": "code",
   "execution_count": null,
   "metadata": {},
   "outputs": [],
   "source": [
    "underwear.to_csv('PTT_運動內衣_所有資料.csv', encoding= 'UTF-8-sig')"
   ]
  }
 ],
 "metadata": {
  "kernelspec": {
   "display_name": "Python 3",
   "language": "python",
   "name": "python3"
  },
  "language_info": {
   "codemirror_mode": {
    "name": "ipython",
    "version": 3
   },
   "file_extension": ".py",
   "mimetype": "text/x-python",
   "name": "python",
   "nbconvert_exporter": "python",
   "pygments_lexer": "ipython3",
   "version": "3.7.7-final"
  }
 },
 "nbformat": 4,
 "nbformat_minor": 4
}
